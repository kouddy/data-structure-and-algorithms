{
 "cells": [
  {
   "cell_type": "markdown",
   "metadata": {},
   "source": [
    "# Easy"
   ]
  },
  {
   "cell_type": "markdown",
   "metadata": {},
   "source": [
    "### Find Pivot Index\n",
    "https://leetcode.com/problems/find-pivot-index"
   ]
  },
  {
   "cell_type": "code",
   "execution_count": 4,
   "metadata": {},
   "outputs": [],
   "source": [
    "def pivotIndex(nums: list[int]) -> int:\n",
    "  left = 0\n",
    "  right = sum(nums)\n",
    "  for i in range(len(nums)):\n",
    "    right -= nums[i]\n",
    "    if i > 0: left += nums[i-1]\n",
    "    if left == right: return i\n",
    "  return -1"
   ]
  },
  {
   "cell_type": "code",
   "execution_count": 7,
   "metadata": {},
   "outputs": [
    {
     "name": "stdout",
     "output_type": "stream",
     "text": [
      "3\n",
      "-1\n",
      "0\n"
     ]
    }
   ],
   "source": [
    "print(pivotIndex([1,7,3,6,5,6])) # Should be 3\n",
    "print(pivotIndex([1,2,3])) # Should be -1\n",
    "print(pivotIndex([2,1,-1])) # Should be 2 (left of 2 is 0, right of 2 is 0)"
   ]
  },
  {
   "cell_type": "markdown",
   "metadata": {},
   "source": [
    "# Medium"
   ]
  },
  {
   "cell_type": "markdown",
   "metadata": {},
   "source": [
    "### Product of Array Except Self\n",
    "https://leetcode.com/problems/product-of-array-except-self/"
   ]
  },
  {
   "cell_type": "code",
   "execution_count": 20,
   "metadata": {},
   "outputs": [],
   "source": [
    "def productExceptSelf(nums: list[int]) -> list[int]:\n",
    "  n = len(nums)\n",
    "  prefix = []\n",
    "  suffix = []\n",
    "  for i in range(n):\n",
    "    prefix.append((prefix[-1] if prefix else 1) * nums[i])\n",
    "    suffix.append((suffix[-1] if suffix else 1) * nums[n-i-1])\n",
    "  suffix = suffix[::-1]\n",
    "\n",
    "  result = []\n",
    "  for i in range(n):\n",
    "    left = prefix[i-1] if i-1 >= 0 else 1\n",
    "    right = suffix[i+1] if i+1 < n else 1\n",
    "    result.append(left * right)\n",
    "\n",
    "  return result"
   ]
  },
  {
   "cell_type": "code",
   "execution_count": 19,
   "metadata": {},
   "outputs": [
    {
     "name": "stdout",
     "output_type": "stream",
     "text": [
      "[24, 12, 8, 6]\n",
      "[0, 0, 9, 0, 0]\n"
     ]
    }
   ],
   "source": [
    "print(productExceptSelf([1,2,3,4]))\n",
    "print(productExceptSelf([-1,1,0,-3,3]))"
   ]
  },
  {
   "cell_type": "code",
   "execution_count": null,
   "metadata": {},
   "outputs": [],
   "source": []
  }
 ],
 "metadata": {
  "kernelspec": {
   "display_name": ".venv",
   "language": "python",
   "name": "python3"
  },
  "language_info": {
   "codemirror_mode": {
    "name": "ipython",
    "version": 3
   },
   "file_extension": ".py",
   "mimetype": "text/x-python",
   "name": "python",
   "nbconvert_exporter": "python",
   "pygments_lexer": "ipython3",
   "version": "3.11.4"
  }
 },
 "nbformat": 4,
 "nbformat_minor": 2
}
