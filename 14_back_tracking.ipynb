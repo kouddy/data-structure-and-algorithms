{
  "cells": [
   {
    "cell_type": "markdown",
    "metadata": {},
    "source": [
     "* Subset and combination problem: \n",
     "    * Number of elements can vary (can even be empty)\n",
     "    * use increasing index\n",
     "* permutation problem: \n",
     "    * Number of elements is usually fixed.\n",
     "    * use set of used element, or pop element from the array because latter element can access earlier element"
    ]
   },
   {
    "cell_type": "markdown",
    "metadata": {},
    "source": [
     "Backtracking can usually be done in two approaches: for loop or dfs\n",
     "Example below shows for loop way of doing backtracking"
    ]
   },
   {
    "cell_type": "code",
    "execution_count": 47,
    "metadata": {},
    "outputs": [],
    "source": [
     "def subsets(nums: list[int]) -> list[list[int]]:\n",
     "    result = [[]]\n",
     "    for e in nums:\n",
     "      for i in range(len(result)):\n",
     "        c = result[i].copy() # Copy and append\n",
     "        c.append(e)\n",
     "        result.append(c) # Append to the copy without e.\n",
     "\n",
     "    return result"
    ]
   },
   {
    "cell_type": "code",
    "execution_count": null,
    "metadata": {},
    "outputs": [],
    "source": [
     "print(subsets([1,2,3]))"
    ]
   },
   {
    "cell_type": "markdown",
    "metadata": {},
    "source": [
     "Following example shows backtracking with recursion.\n",
     "Backtracking with recursion is sort of like doing doing pre-order traversal"
    ]
   },
   {
    "cell_type": "code",
    "execution_count": 49,
    "metadata": {},
    "outputs": [],
    "source": [
     "# Example of graph dfs as reference:\n",
     "# def traversal_dfs(root, path):\n",
     "#     if root:\n",
     "#         ## do something,\n",
     "#         for n in root.neighbors:\n",
     "#             path.append(root)\n",
     "#             traversal_dfs(n)\n",
     "#             path.pop()\n",
     "def subsets_dfs(nums: list[int]) -> list[list[int]]:\n",
     "    def dfs(index, nums, result, path):\n",
     "        result.append(list(path)) # Having list(path) is critial because we need to copy. [path] will not work\n",
     "        for i in range(index, len(nums)):\n",
     "            path.append(nums[i])\n",
     "            dfs(i + 1, nums, result, path) # remember that this is i + 1, not index + 1\n",
     "            path.pop()\n",
     "\n",
     "    result, path = [], []\n",
     "    dfs(0, nums, result, path)\n",
     "    return result"
    ]
   },
   {
    "cell_type": "code",
    "execution_count": null,
    "metadata": {},
    "outputs": [],
    "source": [
     "subsets_dfs([1,2,3])"
    ]
   },
   {
    "cell_type": "markdown",
    "metadata": {},
    "source": [
     "String Partitioning"
    ]
   },
   {
    "cell_type": "code",
    "execution_count": 104,
    "metadata": {},
    "outputs": [],
    "source": [
     "def partition(s: str) -> list[list[str]]:\n",
     "    def dfs(n, s, result, path):\n",
     "        if len(\"\".join(path)) == n: result.append(path.copy())\n",
     "        for i in range(len(s)):\n",
     "            path.append(s[:i+1]) # Instead of taking the i element, we take substring\n",
     "            dfs(n, s[i+1:], result, path) # we pass remaining substring s[i+1:]\n",
     "            path.pop()\n",
     "\n",
     "    result, path = [], []\n",
     "    dfs(len(s), s, result, path)\n",
     "    return result"
    ]
   },
   {
    "cell_type": "code",
    "execution_count": null,
    "metadata": {},
    "outputs": [],
    "source": [
     "print(partition(\"abaa\"))"
    ]
   },
   {
    "cell_type": "markdown",
    "metadata": {},
    "source": [
     "### Medium"
    ]
   },
   {
    "cell_type": "markdown",
    "metadata": {},
    "source": [
     "### Combinations\n",
     "https://leetcode.com/problems/combinations"
    ]
   },
   {
    "cell_type": "code",
    "execution_count": 51,
    "metadata": {},
    "outputs": [],
    "source": [
     "def combinations(n: int, k: int) -> list[list[int]]:\n",
     "    def dfs(low, high, k, result, path):\n",
     "        if k == 0:\n",
     "            result.append(list(path))\n",
     "            return\n",
     "        \n",
     "        for i in range(low, high+1):\n",
     "            path.append(i)\n",
     "            # Since we need to pick distinct numbers, use i+1\n",
     "            dfs(i + 1,high, k-1, result, path)\n",
     "            path.pop()\n",
     "    \n",
     "    result, path = [], []\n",
     "    dfs(1, n, k, result, path)\n",
     "    return result"
    ]
   },
   {
    "cell_type": "code",
    "execution_count": null,
    "metadata": {},
    "outputs": [],
    "source": [
     "print(combinations(4, 3))"
    ]
   },
   {
    "cell_type": "markdown",
    "metadata": {},
    "source": [
     "### Combination Sum\n",
     "https://leetcode.com/problems/combination-sum\n",
     "\n",
     "This problem can't really be solved with for loop because we can choose same target multiple times."
    ]
   },
   {
    "cell_type": "code",
    "execution_count": 53,
    "metadata": {},
    "outputs": [],
    "source": [
     "def combinationSum(candidates: list[int], target: int) -> list[list[int]]:\n",
     "    def dfs(candidates, target, result, path):\n",
     "        if 0 == target: \n",
     "            p = sorted(path) # Sorted is neede because we can pick multiple of same element\n",
     "            if p not in result: result.append(sorted(path))\n",
     "                    \n",
     "        for i in range(len(candidates)):\n",
     "            if target >= candidates[i]:\n",
     "                path.append(candidates[i])\n",
     "                dfs(candidates, target-candidates[i], result, path)\n",
     "                path.pop()\n",
     "\n",
     "    result, path = [], []\n",
     "    dfs(candidates, target, result, path)\n",
     "    return result"
    ]
   },
   {
    "cell_type": "code",
    "execution_count": null,
    "metadata": {},
    "outputs": [],
    "source": [
     "print(combinationSum([1,2,3], 4))"
    ]
   },
   {
    "cell_type": "markdown",
    "metadata": {},
    "source": [
     "### Combination Sum II\n",
     "https://leetcode.com/problems/combination-sum-ii"
    ]
   },
   {
    "cell_type": "code",
    "execution_count": 55,
    "metadata": {},
    "outputs": [],
    "source": [
     "def combinationSum2(candidates: list[int], target: int) -> list[list[int]]:\n",
     "  def dfs(index, candidates, target, result, path):\n",
     "    if target == 0 and path not in result:\n",
     "      result.append(list(path))\n",
     "    \n",
     "    for i in range(index, len(candidates)):\n",
     "      if target >= candidates[i]: \n",
     "        path.append(candidates[i])\n",
     "        # We can only pick i+1 item, otherwise we might end up picking same element twice.\n",
     "        dfs(i + 1, candidates, target - candidates[i], result, path)\n",
     "        path.pop()\n",
     "      \n",
     "  result, path = [], []\n",
     "  candidates.sort()\n",
     "  dfs(0, candidates, target, result, path)\n",
     "  return result"
    ]
   },
   {
    "cell_type": "code",
    "execution_count": null,
    "metadata": {},
    "outputs": [],
    "source": [
     "print(combinationSum2([1,1,2], 4))"
    ]
   },
   {
    "cell_type": "markdown",
    "metadata": {},
    "source": [
     "### Combination Sum III\n",
     "https://leetcode.com/problems/combination-sum-iii"
    ]
   },
   {
    "cell_type": "code",
    "execution_count": 57,
    "metadata": {},
    "outputs": [],
    "source": [
     "def combinationSum3(k: int, n: int) -> list[list[int]]:\n",
     "    def dfs(low, high, k, n, result, path):\n",
     "        if n == 0 and k == 0: result.append(list(path))\n",
     "        if k < 0: return\n",
     "        for number in range(low, high+1):\n",
     "            if n - number >= 0:\n",
     "                path.append(number)\n",
     "                # We are avoiding picking same number by passing number+1\n",
     "                dfs(number + 1, high, k-1, n - number, result, path)\n",
     "                path.pop()\n",
     "\n",
     "    result, path = [], []\n",
     "    dfs(1, 9, k, n, result, path)\n",
     "    return result"
    ]
   },
   {
    "cell_type": "code",
    "execution_count": null,
    "metadata": {},
    "outputs": [],
    "source": [
     "print(combinationSum3(3, 7)) # Result: [[1,2,4]]\n",
     "print(combinationSum3(3, 9)) # Result: [[1,2,6],[1,3,5],[2,3,4]]"
    ]
   },
   {
    "cell_type": "markdown",
    "metadata": {},
    "source": [
     "### Permutations\n",
     "https://leetcode.com/problems/permutations"
    ]
   },
   {
    "cell_type": "code",
    "execution_count": 59,
    "metadata": {},
    "outputs": [],
    "source": [
     "def permute_iteration(nums: list[int]) -> list[list[int]]:\n",
     "  ret = [[]]\n",
     "\n",
     "  for e in nums: # we pick\n",
     "    r = []\n",
     "    for arr in ret:\n",
     "      # for each array in ret, insert into each position and copy the result array.\n",
     "      for i in range(len(arr) + 1):\n",
     "        c = arr.copy()\n",
     "        c.insert(i, e)\n",
     "        r.append(c)        \n",
     "    ret = r\n",
     "\n",
     "  return ret"
    ]
   },
   {
    "cell_type": "code",
    "execution_count": 60,
    "metadata": {},
    "outputs": [],
    "source": [
     "def permute(nums: list[int]) -> list[list[int]]:\n",
     "    def dfs(n, nums, result, path):\n",
     "        if len(path) == n: result.append(list(path))\n",
     "\n",
     "        for _ in range(len(nums)):\n",
     "            # We pop an element from the number, this way the number is no longer being consumed.\n",
     "            # We can't pass index + 1 because it would be latter element can't use element before.\n",
     "            path.append(nums.pop(0))\n",
     "            dfs(n, nums, result, path)\n",
     "            nums.append(path.pop(-1))\n",
     "\n",
     "        \n",
     "    result, path = [], []\n",
     "    dfs(len(nums), nums, result, path)\n",
     "    return result"
    ]
   },
   {
    "cell_type": "code",
    "execution_count": null,
    "metadata": {},
    "outputs": [],
    "source": [
     "print(permute([1,2,3]))"
    ]
   },
   {
    "cell_type": "markdown",
    "metadata": {},
    "source": [
     "### Permutations II\n",
     "https://leetcode.com/problems/permutations-ii"
    ]
   },
   {
    "cell_type": "code",
    "execution_count": 62,
    "metadata": {},
    "outputs": [],
    "source": [
     "def permuteUnique(nums: list[int]) -> list[list[int]]:\n",
     "    def dfs(n, nums, result, path):\n",
     "        if not nums and path not in result: result.append(list(path))\n",
     "        for _ in range(len(nums)):\n",
     "            path.append(nums.pop(0))\n",
     "            dfs(n, nums, result, path)\n",
     "            nums.append(path.pop(-1))\n",
     "        \n",
     "    result, path = [], []\n",
     "    dfs(len(nums), nums, result, path)\n",
     "    return result"
    ]
   },
   {
    "cell_type": "code",
    "execution_count": null,
    "metadata": {},
    "outputs": [],
    "source": [
     "print(permuteUnique([1,1,2]))\n",
     "print(permuteUnique([1,2,3]))"
    ]
   },
   {
    "cell_type": "code",
    "execution_count": 64,
    "metadata": {},
    "outputs": [],
    "source": [
     "# In this approach, instead of popping, we keep track of which index was consumed.\n",
     "def permuteUnique_alt(nums: list[int]) -> list[list[int]]:\n",
     "    def dfs(n, nums, result, path, skip_i):\n",
     "        if len(path) == n and path not in result: result.append(list(path))\n",
     "        for i in range(len(nums)):\n",
     "            if i not in skip_i:\n",
     "                path.append(nums[i])\n",
     "                skip_i.add(i)\n",
     "                dfs(n, nums, result, path, skip_i)\n",
     "                skip_i.remove(i)\n",
     "                path.pop(-1)\n",
     "        \n",
     "    result, path = [], []\n",
     "    dfs(len(nums), nums, result, path, set())\n",
     "    return result"
    ]
   },
   {
    "cell_type": "code",
    "execution_count": null,
    "metadata": {},
    "outputs": [],
    "source": [
     "print(permuteUnique_alt([1,1,2]))\n",
     "print(permuteUnique_alt([1,2,3]))"
    ]
   },
   {
    "cell_type": "markdown",
    "metadata": {},
    "source": [
     "### Subsets II\n",
     "https://leetcode.com/problems/subsets-ii"
    ]
   },
   {
    "cell_type": "code",
    "execution_count": 66,
    "metadata": {},
    "outputs": [],
    "source": [
     "def subsetsWithDup(nums: list[int]) -> list[list[int]]:\n",
     "    def dfs(index, nums, result, path):\n",
     "        p = sorted(path)\n",
     "        if p not in result: result.append(p)\n",
     "        for i in range(index, len(nums)):\n",
     "            path.append(nums[i])\n",
     "            dfs(i + 1, nums, result, path)\n",
     "            path.pop()\n",
     "\n",
     "    result, path = [], []\n",
     "    dfs(0, nums, result, path)\n",
     "    return result"
    ]
   },
   {
    "cell_type": "code",
    "execution_count": null,
    "metadata": {},
    "outputs": [],
    "source": [
     "print(subsetsWithDup([1,4,3,5,4,2,4,5,0]))"
    ]
   },
   {
    "cell_type": "markdown",
    "metadata": {},
    "source": [
     "### Palindrome Partitioning\n",
     "https://leetcode.com/problems/palindrome-partitioning"
    ]
   },
   {
    "cell_type": "code",
    "execution_count": 126,
    "metadata": {},
    "outputs": [],
    "source": [
     "def partition_palindrome(s: str) -> list[list[str]]:\n",
     "    def is_palindrome(txt): return txt == txt[::-1]\n",
     "    def dfs(n, s, result, path):\n",
     "        if len(\"\".join(path)) == n: result.append(path.copy())\n",
     "        for i in range(len(s)):\n",
     "            substring = s[:i+1]\n",
     "            # If the part is palindrome, then keep going, else don't keep going\n",
     "            if is_palindrome(substring):\n",
     "                path.append(substring)\n",
     "                dfs(n, s[i+1:], result, path)\n",
     "                path.pop()\n",
     "\n",
     "    result, path = [], []\n",
     "    dfs(len(s), s, result, path)\n",
     "    return result"
    ]
   },
   {
    "cell_type": "code",
    "execution_count": null,
    "metadata": {},
    "outputs": [],
    "source": [
     "print(partition_palindrome(\"abaa\"))"
    ]
   },
   {
    "cell_type": "markdown",
    "metadata": {},
    "source": [
     "### Target Sum\n",
     "https://leetcode.com/problems/target-sum"
    ]
   },
   {
    "cell_type": "code",
    "execution_count": 196,
    "metadata": {},
    "outputs": [],
    "source": [
     "def findTargetSumWays_brutforce(nums: list[int], target: int) -> int:\n",
     "    def dfs(index, nums, target):\n",
     "        if index == len(nums): return 1 if target == 0 else 0\n",
     "        # We don't need to do loop here. For each index, we only have two choices\n",
     "        if index < len(nums):\n",
     "            pos_ways = dfs(index + 1, nums, target - nums[index])\n",
     "            neg_ways = dfs(index + 1, nums, target + nums[index])\n",
     "            return pos_ways + neg_ways \n",
     "\n",
     "    return dfs(0, nums,  target)"
    ]
   },
   {
    "cell_type": "code",
    "execution_count": null,
    "metadata": {},
    "outputs": [],
    "source": [
     "print(findTargetSumWays_brutforce([0,0,0,0,0,0,0,0,0,0,0,0,0,0,0,0,0,0,0,1], 1))"
    ]
   },
   {
    "cell_type": "code",
    "execution_count": 199,
    "metadata": {},
    "outputs": [],
    "source": [
     "def findTargetSumWays_cached(nums: list[int], target: int) -> int:\n",
     "    def dfs(index, nums, target, cache):\n",
     "        if index == len(nums): return 1 if target == 0 else 0\n",
     "        if (index, target) in cache: return cache[(index, target)]\n",
     "        # We don't need to do loop here. For each index, we only have two choices\n",
     "        if index < len(nums):\n",
     "            pos_ways = dfs(index + 1, nums, target - nums[index], cache)\n",
     "            neg_ways = dfs(index + 1, nums, target + nums[index], cache)\n",
     "            cache[(index, target)] = pos_ways + neg_ways\n",
     "            return cache[(index, target)]\n",
     "\n",
     "    cache = {}\n",
     "    return dfs(0, nums, target, cache)"
    ]
   },
   {
    "cell_type": "code",
    "execution_count": null,
    "metadata": {},
    "outputs": [],
    "source": [
     "print(findTargetSumWays_cached([0,0,0,0,0,0,0,0,0,0,0,0,0,0,0,0,0,0,0,1], 1))"
    ]
   },
   {
    "cell_type": "code",
    "execution_count": null,
    "metadata": {},
    "outputs": [],
    "source": []
   }
  ],
  "metadata": {
   "kernelspec": {
    "display_name": ".venv",
    "language": "python",
    "name": "python3"
   },
   "language_info": {
    "codemirror_mode": {
     "name": "ipython",
     "version": 3
    },
    "file_extension": ".py",
    "mimetype": "text/x-python",
    "name": "python",
    "nbconvert_exporter": "python",
    "pygments_lexer": "ipython3",
    "version": "3.9.6"
   }
  },
  "nbformat": 4,
  "nbformat_minor": 2
 }
 