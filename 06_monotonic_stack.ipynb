{
 "cells": [
  {
   "cell_type": "markdown",
   "metadata": {},
   "source": [
    "# Medium"
   ]
  },
  {
   "cell_type": "markdown",
   "metadata": {},
   "source": [
    "### Daily Temperatures\n",
    "https://leetcode.com/problems/daily-temperatures"
   ]
  },
  {
   "cell_type": "code",
   "execution_count": 1,
   "metadata": {},
   "outputs": [],
   "source": [
    "def dailyTemperatures(temperatures: list[int]) -> list[int]:\n",
    "  s = []\n",
    "  result = [0] * len(temperatures)\n",
    "  for i in range(len(temperatures)):\n",
    "    while s and temperatures[s[-1]] < temperatures[i]:\n",
    "      j = s.pop(-1)\n",
    "      result[j] = i - j\n",
    "    s.append(i)\n",
    "  return result"
   ]
  },
  {
   "cell_type": "code",
   "execution_count": 5,
   "metadata": {},
   "outputs": [
    {
     "name": "stdout",
     "output_type": "stream",
     "text": [
      "[1, 1, 4, 2, 1, 1, 0, 0]\n",
      "[1, 1, 1, 0]\n",
      "[1, 1, 0]\n"
     ]
    }
   ],
   "source": [
    "print(dailyTemperatures([73,74,75,71,69,72,76,73])) # should be [1,1,4,2,1,1,0,0]\n",
    "print(dailyTemperatures([30,40,50,60])) # should be [1,1,1,0]\n",
    "print(dailyTemperatures([30,60,90])) # should be [1,1,0]"
   ]
  },
  {
   "cell_type": "markdown",
   "metadata": {},
   "source": [
    "### Online Stock Span\n",
    "https://leetcode.com/problems/online-stock-span"
   ]
  },
  {
   "cell_type": "code",
   "execution_count": 23,
   "metadata": {},
   "outputs": [],
   "source": [
    "def stockSpan(prices: list[int]) -> list[int]:\n",
    "  s = []\n",
    "  result = []\n",
    "  for i in range(len(prices)):\n",
    "    count = 1\n",
    "    while s and prices[s[-1]] < prices[i]:\n",
    "      count += result[s[-1]] # add result for s[-1] because price at s[-1] has value as well\n",
    "      s.pop()\n",
    "    s.append(i)\n",
    "    result.append(count)\n",
    "\n",
    "  return result"
   ]
  },
  {
   "cell_type": "code",
   "execution_count": 24,
   "metadata": {},
   "outputs": [
    {
     "name": "stdout",
     "output_type": "stream",
     "text": [
      "[1, 1, 1, 2, 1, 4, 6]\n"
     ]
    }
   ],
   "source": [
    "print(stockSpan([100, 80, 60, 70, 60, 75, 85])) # Should return [1, 1, 1, 2, 1, 4, 6]"
   ]
  },
  {
   "cell_type": "code",
   "execution_count": null,
   "metadata": {},
   "outputs": [],
   "source": []
  }
 ],
 "metadata": {
  "kernelspec": {
   "display_name": ".venv",
   "language": "python",
   "name": "python3"
  },
  "language_info": {
   "codemirror_mode": {
    "name": "ipython",
    "version": 3
   },
   "file_extension": ".py",
   "mimetype": "text/x-python",
   "name": "python",
   "nbconvert_exporter": "python",
   "pygments_lexer": "ipython3",
   "version": "3.11.4"
  }
 },
 "nbformat": 4,
 "nbformat_minor": 2
}
