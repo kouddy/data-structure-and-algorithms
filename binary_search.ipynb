{
 "cells": [
  {
   "cell_type": "code",
   "execution_count": 1,
   "metadata": {},
   "outputs": [],
   "source": [
    "def binary_search(arr, e):\n",
    "  def _binary_search(arr, e, low, highExc):\n",
    "    if low < highExc:\n",
    "      mid = int((low + highExc) / 2)\n",
    "      if e == arr[mid]: return mid\n",
    "      elif e < arr[mid]: return _binary_search(arr, e, low, mid)\n",
    "      elif e > arr[mid]: return _binary_search(arr, e, mid+1, highExc)\n",
    "    return -1\n",
    "  \n",
    "  return _binary_search(arr, e, 0, len(arr))"
   ]
  },
  {
   "cell_type": "code",
   "execution_count": null,
   "metadata": {},
   "outputs": [],
   "source": [
    "arr = [1,2,3,4,5,6,7,8,9]\n",
    "print(binary_search(arr, 4))"
   ]
  },
  {
   "cell_type": "code",
   "execution_count": 3,
   "metadata": {},
   "outputs": [],
   "source": [
    "# Find first element that satisfies condition\n",
    "def binary_search_with_condition(arr, fn):\n",
    "  def _binary_search_with_condition(arr, fn, low, highExc):\n",
    "    if low < highExc:\n",
    "      mid = (low + highExc) // 2\n",
    "      if fn(arr[mid]): return _binary_search_with_condition(arr, fn, low, mid)\n",
    "      else: return _binary_search_with_condition(arr, fn, mid + 1, highExc) # Here we need to have mid + 1 because fn(arr[mid]) was False\n",
    "    elif low < len(arr) and fn(arr[low]): return low # This line is important\n",
    "    else: -1\n",
    "\n",
    "  return _binary_search_with_condition(arr, fn, 0, len(arr))\n"
   ]
  },
  {
   "cell_type": "code",
   "execution_count": null,
   "metadata": {},
   "outputs": [],
   "source": [
    "arr = [0,1,2,3,4,5,6]\n",
    "print(binary_search_with_condition(arr, lambda e: e >= 5))"
   ]
  },
  {
   "cell_type": "code",
   "execution_count": 31,
   "metadata": {},
   "outputs": [],
   "source": [
    "# Find k such that fn(k) is close enough to e using binary search, close enough is defined by distance between fn(k) and e. If every iteration doesn't converge closer to result, this will not work.\n",
    "def binary_search_continuous(e, fn, eps):\n",
    "  def _binary_search_continuous(e, low, high, fn, eps):\n",
    "    k = (high + low) / 2\n",
    "    fn_k = fn(k)\n",
    "    if abs(fn_k - e) <= eps: return k\n",
    "    elif e < fn_k: return _binary_search_continuous(e, low, k, fn, eps)\n",
    "    else: return _binary_search_continuous(e, k, high, fn, eps)\n",
    "  return _binary_search_continuous(e, 0, e, fn, eps)"
   ]
  },
  {
   "cell_type": "code",
   "execution_count": null,
   "metadata": {},
   "outputs": [],
   "source": [
    "print(binary_search_continuous(10000, lambda k: k*k+1, 0.01))"
   ]
  },
  {
   "cell_type": "code",
   "execution_count": null,
   "metadata": {},
   "outputs": [],
   "source": []
  },
  {
   "cell_type": "code",
   "execution_count": null,
   "metadata": {},
   "outputs": [],
   "source": []
  },
  {
   "cell_type": "code",
   "execution_count": null,
   "metadata": {},
   "outputs": [],
   "source": []
  }
 ],
 "metadata": {
  "kernelspec": {
   "display_name": ".venv",
   "language": "python",
   "name": "python3"
  },
  "language_info": {
   "codemirror_mode": {
    "name": "ipython",
    "version": 3
   },
   "file_extension": ".py",
   "mimetype": "text/x-python",
   "name": "python",
   "nbconvert_exporter": "python",
   "pygments_lexer": "ipython3",
   "version": "3.11.4"
  }
 },
 "nbformat": 4,
 "nbformat_minor": 2
}
