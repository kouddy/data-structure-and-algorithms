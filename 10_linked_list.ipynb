{
 "cells": [
  {
   "cell_type": "code",
   "execution_count": 23,
   "metadata": {},
   "outputs": [],
   "source": [
    "class ListNode:\n",
    "  @classmethod\n",
    "  def from_arr(self, arr=[]):\n",
    "    head = None\n",
    "    for e in arr[::-1]:\n",
    "        if not head: head = ListNode(val=e)\n",
    "        else:\n",
    "          next = head\n",
    "          head = ListNode(val=e, next=next)\n",
    "    return head\n",
    "\n",
    "  def __init__(self, val=0, next=None):\n",
    "    self.val = val\n",
    "    self.next = next\n",
    "\n",
    "  def  __str__(self):\n",
    "    head = self\n",
    "    txt = \"\"\n",
    "    while head:\n",
    "      txt += str(head.val)\n",
    "      if head.next: txt += \"->\"\n",
    "      head = head.next\n",
    "    return txt"
   ]
  },
  {
   "cell_type": "markdown",
   "metadata": {},
   "source": [
    "# Easy"
   ]
  },
  {
   "cell_type": "markdown",
   "metadata": {},
   "source": [
    "### Reverse Linked List\n",
    "https://leetcode.com/problems/reverse-linked-list"
   ]
  },
  {
   "cell_type": "code",
   "execution_count": 11,
   "metadata": {},
   "outputs": [],
   "source": [
    "def reverseList(head: ListNode) -> ListNode:\n",
    "  prev = None\n",
    "  while head:\n",
    "    next = head.next\n",
    "    head.next = prev\n",
    "    prev = head\n",
    "    head = next\n",
    "  return prev"
   ]
  },
  {
   "cell_type": "code",
   "execution_count": null,
   "metadata": {},
   "outputs": [],
   "source": [
    "print(reverseList(ListNode.from_arr([1,2,3])))\n",
    "print(reverseList(ListNode.from_arr([1,2])))\n",
    "print(reverseList(ListNode.from_arr([])))\n",
    "print(reverseList(ListNode.from_arr([1])))"
   ]
  },
  {
   "cell_type": "markdown",
   "metadata": {},
   "source": [
    "### Merge Two Sorted Lists\n",
    "https://leetcode.com/problems/merge-two-sorted-lists"
   ]
  },
  {
   "cell_type": "code",
   "execution_count": 34,
   "metadata": {},
   "outputs": [],
   "source": [
    "def mergeTwoLists(list1: ListNode, list2: ListNode) -> ListNode:\n",
    "  if not list1: return list2\n",
    "  if not list2: return list1\n",
    "\n",
    "  if list1.val <= list2.val:\n",
    "    ret = list1\n",
    "    ret.next = mergeTwoLists(list1.next, list2)\n",
    "  else:\n",
    "    ret = list2\n",
    "    ret.next = mergeTwoLists(list1, list2.next)\n",
    "  return ret"
   ]
  },
  {
   "cell_type": "code",
   "execution_count": null,
   "metadata": {},
   "outputs": [],
   "source": [
    "print(mergeTwoLists(ListNode.from_arr([1,2,4]), ListNode.from_arr([1,3,4])))\n",
    "print(mergeTwoLists(ListNode.from_arr([1,2,4]), ListNode.from_arr([])))\n",
    "print(mergeTwoLists(ListNode.from_arr([]), ListNode.from_arr([])))"
   ]
  },
  {
   "cell_type": "markdown",
   "metadata": {},
   "source": [
    "### Linked List Cycle\n",
    "https://leetcode.com/problems/linked-list-cycle"
   ]
  },
  {
   "cell_type": "code",
   "execution_count": 37,
   "metadata": {},
   "outputs": [],
   "source": [
    "def hasCycle(head: ListNode) -> bool:\n",
    "  slow = fast = head\n",
    "  while fast:\n",
    "    fast = fast.next\n",
    "    if fast:\n",
    "      fast = fast.next\n",
    "      slow = slow.next\n",
    "      if fast.val == slow.val: return True\n",
    "  return False"
   ]
  },
  {
   "cell_type": "markdown",
   "metadata": {},
   "source": [
    "# Medium"
   ]
  },
  {
   "cell_type": "markdown",
   "metadata": {},
   "source": [
    "### Add Two Numbers\n",
    "https://leetcode.com/problems/add-two-numbers"
   ]
  },
  {
   "cell_type": "code",
   "execution_count": 59,
   "metadata": {},
   "outputs": [],
   "source": [
    "def addTwoNumbers(l1: ListNode, l2: ListNode) -> ListNode:\n",
    "  def fn(l1: ListNode, l2: ListNode, carry) -> ListNode:\n",
    "    if not l1 and not l2:\n",
    "      if carry: return ListNode(val=1)\n",
    "      else: return None\n",
    "\n",
    "    a = l1.val if l1 else 0\n",
    "    b = l2.val if l2 else 0\n",
    "    total = a + b + carry\n",
    "    carry = total // 10\n",
    "    total = total % 10\n",
    "    head = ListNode(val=total)\n",
    "    head.next = fn(l1.next if l1 else None, l2.next if l2 else None, carry)\n",
    "    return head\n",
    "\n",
    "  return fn(l1, l2, 0)"
   ]
  },
  {
   "cell_type": "code",
   "execution_count": null,
   "metadata": {},
   "outputs": [],
   "source": [
    "print(addTwoNumbers(ListNode.from_arr([2,4,3]), ListNode.from_arr([5,6,4]))) # Return: 7,0,8\n",
    "print(addTwoNumbers(ListNode.from_arr([9,9]), ListNode.from_arr([9,9]))) # Return: 8,9,1\n",
    "print(addTwoNumbers(ListNode.from_arr([9,9,9,9]), ListNode.from_arr([9,9]))) # Return: 8,9,0,0,1"
   ]
  },
  {
   "cell_type": "markdown",
   "metadata": {},
   "source": [
    "### Middle of the Linked List\n",
    "https://leetcode.com/problems/middle-of-the-linked-list"
   ]
  },
  {
   "cell_type": "code",
   "execution_count": 64,
   "metadata": {},
   "outputs": [],
   "source": [
    "def middleNode(head: ListNode) -> ListNode:\n",
    "  slow = fast = head\n",
    "  while fast:\n",
    "    fast = fast.next\n",
    "    if fast:\n",
    "      slow = slow.next\n",
    "      fast = fast.next\n",
    "  return slow"
   ]
  },
  {
   "cell_type": "code",
   "execution_count": null,
   "metadata": {},
   "outputs": [],
   "source": [
    "print(middleNode(ListNode.from_arr([1,2,3,4,5])))\n",
    "print(middleNode(ListNode.from_arr([1,2,3,4,5,6])))"
   ]
  },
  {
   "cell_type": "markdown",
   "metadata": {},
   "source": [
    "### Delete the Middle Node of a Linked List\n",
    "https://leetcode.com/problems/delete-the-middle-node-of-a-linked-list"
   ]
  },
  {
   "cell_type": "code",
   "execution_count": 67,
   "metadata": {},
   "outputs": [],
   "source": [
    "def deleteMiddle(head: ListNode) -> ListNode:\n",
    "  h = slow = fast = head # Slow will be pointing to the middle\n",
    "  prev = None\n",
    "  while fast:\n",
    "    fast = fast.next\n",
    "    if fast:\n",
    "      prev = slow\n",
    "      slow = slow.next\n",
    "      fast = fast.next\n",
    "\n",
    "  if prev: prev.next = slow.next\n",
    "  else: h = None\n",
    "  return h"
   ]
  },
  {
   "cell_type": "code",
   "execution_count": null,
   "metadata": {},
   "outputs": [],
   "source": [
    "print(deleteMiddle(ListNode.from_arr([1,2,3,4,5])))\n",
    "print(deleteMiddle(ListNode.from_arr([1,2,3,4,5,6])))"
   ]
  },
  {
   "cell_type": "markdown",
   "metadata": {},
   "source": [
    "### Remove Nth Node From End of List\n",
    "https://leetcode.com/problems/remove-nth-node-from-end-of-list"
   ]
  },
  {
   "cell_type": "code",
   "execution_count": 69,
   "metadata": {},
   "outputs": [],
   "source": [
    "def removeNthFromEnd(head: ListNode, n: int) -> ListNode:\n",
    "  slow = fast = head\n",
    "  prev = None\n",
    "  while fast:\n",
    "    fast = fast.next\n",
    "    if n > 0: n -= 1\n",
    "    else:\n",
    "      prev = slow\n",
    "      slow = slow.next\n",
    "  \n",
    "  if prev: prev.next = slow.next\n",
    "  else: head = slow.next\n",
    "  return head"
   ]
  },
  {
   "cell_type": "code",
   "execution_count": null,
   "metadata": {},
   "outputs": [],
   "source": [
    "print(removeNthFromEnd(ListNode.from_arr([1,2,3,4,5]), 2))\n",
    "print(removeNthFromEnd(ListNode.from_arr([1]), 1))\n",
    "print(removeNthFromEnd(ListNode.from_arr([1,2]), 1))"
   ]
  },
  {
   "cell_type": "markdown",
   "metadata": {},
   "source": [
    "### Odd Even Linked List\n",
    "https://leetcode.com/problems/odd-even-linked-list"
   ]
  },
  {
   "cell_type": "code",
   "execution_count": 98,
   "metadata": {},
   "outputs": [],
   "source": [
    "def oddEvenList(head: ListNode) -> ListNode:\n",
    "  # Intuition: Basically we keep a counter, when counter is even, we update even's prev to head.\n",
    "  if not head: return None\n",
    "  odd_prev = odd_head = even_prev = even_head = None\n",
    "  count = 0\n",
    "  while True:\n",
    "    count += 1\n",
    "    if count % 2 == 0:\n",
    "      if not even_head: even_head = head\n",
    "      if even_prev: even_prev.next = head\n",
    "      even_prev = head\n",
    "    else:\n",
    "      if not odd_head: odd_head = head\n",
    "      if odd_prev: odd_prev.next = head\n",
    "      odd_prev = head\n",
    "\n",
    "    if head: head = head.next\n",
    "    else: break\n",
    "\n",
    "  odd_last = odd_head\n",
    "  while odd_last.next: odd_last = odd_last.next\n",
    "\n",
    "  odd_last.next = even_head\n",
    "  return odd_head"
   ]
  },
  {
   "cell_type": "code",
   "execution_count": null,
   "metadata": {},
   "outputs": [],
   "source": [
    "print(oddEvenList(ListNode.from_arr([1,2,3,4,5])))\n",
    "print(oddEvenList(ListNode.from_arr([1,2,3,4])))\n",
    "print(oddEvenList(ListNode.from_arr([1])))"
   ]
  },
  {
   "cell_type": "markdown",
   "metadata": {},
   "source": [
    "### LRU Cache\n",
    "https://leetcode.com/problems/lru-cache"
   ]
  },
  {
   "cell_type": "code",
   "execution_count": 100,
   "metadata": {},
   "outputs": [],
   "source": [
    "# See the solution for LRU Cache"
   ]
  },
  {
   "cell_type": "markdown",
   "metadata": {},
   "source": [
    "# Hard"
   ]
  },
  {
   "cell_type": "code",
   "execution_count": null,
   "metadata": {},
   "outputs": [],
   "source": []
  }
 ],
 "metadata": {
  "kernelspec": {
   "display_name": ".venv",
   "language": "python",
   "name": "python3"
  },
  "language_info": {
   "codemirror_mode": {
    "name": "ipython",
    "version": 3
   },
   "file_extension": ".py",
   "mimetype": "text/x-python",
   "name": "python",
   "nbconvert_exporter": "python",
   "pygments_lexer": "ipython3",
   "version": "3.11.4"
  }
 },
 "nbformat": 4,
 "nbformat_minor": 2
}
