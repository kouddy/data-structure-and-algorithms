{
 "cells": [
  {
   "cell_type": "markdown",
   "metadata": {},
   "source": [
    "# Easy (Stack)"
   ]
  },
  {
   "cell_type": "markdown",
   "metadata": {},
   "source": [
    "### Valid Parentheses\n",
    "https://leetcode.com/problems/valid-parentheses/"
   ]
  },
  {
   "cell_type": "code",
   "execution_count": 3,
   "metadata": {},
   "outputs": [],
   "source": [
    "def isValid(s: str) -> bool:\n",
    "  stack = []\n",
    "  for c in s:\n",
    "    if c == \")\" and stack and stack[-1] == \"(\": stack.pop(-1)\n",
    "    elif c == \"]\" and stack and stack[-1] == \"[\": stack.pop(-1)\n",
    "    elif c == \"}\" and stack and stack[-1] == \"{\": stack.pop(-1)\n",
    "    else: stack.append(c)\n",
    "  return len(stack) == 0"
   ]
  },
  {
   "cell_type": "code",
   "execution_count": null,
   "metadata": {},
   "outputs": [],
   "source": [
    "print(isValid(\"()\")) # Should return True\n",
    "print(isValid(\"()[]{}\")) # Should return True\n",
    "print(isValid(\"(]\")) # Should return False\n",
    "print(isValid(\"([])\")) # Should return True"
   ]
  },
  {
   "cell_type": "markdown",
   "metadata": {},
   "source": [
    "### Implement Queue using Stacks\n",
    "https://leetcode.com/problems/implement-queue-using-stacks"
   ]
  },
  {
   "cell_type": "code",
   "execution_count": 8,
   "metadata": {},
   "outputs": [],
   "source": [
    "class MyQueue:\n",
    "  def __init__(self):\n",
    "    self.stack_1 = []\n",
    "    self.stack_2 = []\n",
    "\n",
    "  def push(self, x: int) -> None:\n",
    "    self.stack_1.append(x)\n",
    "\n",
    "  def pop(self) -> int:\n",
    "    while self.stack_1: self.stack_2.append(self.stack_1.pop())\n",
    "    e = self.stack_2.pop()\n",
    "    while self.stack_2: self.stack_1.append(self.stack_2.pop())\n",
    "    return e\n",
    "\n",
    "  def peek(self) -> int:\n",
    "    while self.stack_1: self.stack_2.append(self.stack_1.pop())\n",
    "    e = self.stack_2[-1]\n",
    "    while self.stack_2: self.stack_1.append(self.stack_2.pop())\n",
    "    return e\n",
    "\n",
    "  def empty(self) -> bool:\n",
    "    return len(self.stack_1) == 0"
   ]
  },
  {
   "cell_type": "code",
   "execution_count": null,
   "metadata": {},
   "outputs": [],
   "source": [
    "q = MyQueue()\n",
    "q.push(1)\n",
    "q.push(2)\n",
    "q.push(3)\n",
    "print(q.peek()) # Should return 1\n",
    "print(q.pop()) # Should return 1\n",
    "print(q.pop()) # Should return 2\n",
    "print(q.empty())"
   ]
  },
  {
   "cell_type": "markdown",
   "metadata": {},
   "source": [
    "# Medium (Stack)"
   ]
  },
  {
   "cell_type": "markdown",
   "metadata": {},
   "source": [
    "### Asteroid Collision\n",
    "https://leetcode.com/problems/asteroid-collision/"
   ]
  },
  {
   "cell_type": "code",
   "execution_count": 11,
   "metadata": {},
   "outputs": [],
   "source": [
    "def asteroidCollision(asteroids: list[int]) -> list[int]:\n",
    "  s = []\n",
    "  for e in asteroids:\n",
    "    s.append(e)\n",
    "    while len(s) >= 2:\n",
    "      a = s[-1]\n",
    "      b = s[-2]\n",
    "      if a < 0 and b > 0:\n",
    "        a = abs(a)\n",
    "        if a == b:\n",
    "          s.pop()\n",
    "          s.pop()\n",
    "          break\n",
    "        elif a > b: s.pop(-2)\n",
    "        else:\n",
    "          s.pop()\n",
    "          break\n",
    "      else: break\n",
    "  return s\n"
   ]
  },
  {
   "cell_type": "code",
   "execution_count": null,
   "metadata": {},
   "outputs": [],
   "source": [
    "print(asteroidCollision([5,10,-5])) # Result [5,10]\n",
    "print(asteroidCollision([8,-8])) # Result []\n",
    "print(asteroidCollision([10,2,-5])) # Result [10]"
   ]
  },
  {
   "cell_type": "markdown",
   "metadata": {},
   "source": [
    "### Decode String\n",
    "https://leetcode.com/problems/decode-string"
   ]
  },
  {
   "cell_type": "code",
   "execution_count": 24,
   "metadata": {},
   "outputs": [],
   "source": [
    "def decodeString(s: str) -> str:\n",
    "  if \"[\" not in s: return s\n",
    "\n",
    "  digit = \"0123456789\"\n",
    "  ret_str = \"\"\n",
    "  d = \"\" # Keep track of digits\n",
    "  st = \"\" # Keep track of string inside bracket (includes digits and brackets)\n",
    "  bracket_ct = 0 # Because there could be nested brackets, if we encounter \"]\" and bracket_ct is 1, we know we are in the outer most.\n",
    "  for e in s:\n",
    "    if e in digit:\n",
    "      if bracket_ct == 0: d += e\n",
    "      else: st += e\n",
    "    elif e == \"[\":\n",
    "      if bracket_ct >= 1: st += e\n",
    "      bracket_ct += 1\n",
    "    elif e == \"]\":\n",
    "      if bracket_ct <= 1: # We are at out most bracket, we can convert to text now.\n",
    "        ret_str += decodeString(st) * int(d)\n",
    "        d = st = \"\"\n",
    "      else: st += e\n",
    "      bracket_ct -= 1\n",
    "    else:\n",
    "      if bracket_ct == 0: ret_str += e\n",
    "      else: st += e\n",
    "          \n",
    "  return ret_str"
   ]
  },
  {
   "cell_type": "code",
   "execution_count": 25,
   "metadata": {},
   "outputs": [
    {
     "name": "stdout",
     "output_type": "stream",
     "text": [
      "aaabcbc\n",
      "accaccacc\n",
      "abcabccdcdcdef\n"
     ]
    }
   ],
   "source": [
    "print(decodeString(\"3[a]2[bc]\")) # Result \"aaabcbc\"\n",
    "print(decodeString(\"3[a2[c]]\")) # Result \"accaccacc\"\n",
    "print(decodeString(\"2[abc]3[cd]ef\")) # Result \"abcabccdcdcdef\""
   ]
  },
  {
   "cell_type": "markdown",
   "metadata": {},
   "source": [
    "# Hard (Stack)"
   ]
  },
  {
   "cell_type": "markdown",
   "metadata": {},
   "source": []
  }
 ],
 "metadata": {
  "kernelspec": {
   "display_name": ".venv",
   "language": "python",
   "name": "python3"
  },
  "language_info": {
   "codemirror_mode": {
    "name": "ipython",
    "version": 3
   },
   "file_extension": ".py",
   "mimetype": "text/x-python",
   "name": "python",
   "nbconvert_exporter": "python",
   "pygments_lexer": "ipython3",
   "version": "3.11.4"
  }
 },
 "nbformat": 4,
 "nbformat_minor": 2
}
