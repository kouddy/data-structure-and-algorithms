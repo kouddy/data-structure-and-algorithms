{
 "cells": [
  {
   "cell_type": "markdown",
   "metadata": {},
   "source": [
    "# Easy"
   ]
  },
  {
   "cell_type": "markdown",
   "metadata": {},
   "source": [
    "### Move Zeroes\n",
    "https://leetcode.com/problems/move-zeroes"
   ]
  },
  {
   "cell_type": "code",
   "execution_count": 5,
   "metadata": {},
   "outputs": [],
   "source": [
    "def moveZeroes(nums):\n",
    "  left = 0\n",
    "  for right in range(len(nums)):\n",
    "    if nums[right] != 0:\n",
    "      tmp = nums[left]\n",
    "      nums[left] = nums[right]\n",
    "      nums[right] = tmp\n",
    "      left += 1\n",
    "  print(nums)"
   ]
  },
  {
   "cell_type": "code",
   "execution_count": null,
   "metadata": {},
   "outputs": [],
   "source": [
    "moveZeroes([0,1,0,3,12])\n",
    "moveZeroes([0])"
   ]
  },
  {
   "cell_type": "markdown",
   "metadata": {},
   "source": [
    "# Medium"
   ]
  },
  {
   "cell_type": "markdown",
   "metadata": {},
   "source": [
    "### Container With Most Water\n",
    "https://leetcode.com/problems/container-with-most-water/"
   ]
  },
  {
   "cell_type": "code",
   "execution_count": 20,
   "metadata": {},
   "outputs": [],
   "source": [
    "def maxArea(height):\n",
    "  # Intuition: To get max area, compare left and right. Move pointer with lower height towards middle.\n",
    "  left = 0\n",
    "  right = len(height) - 1\n",
    "  max_area = 0\n",
    "  while left < right:\n",
    "    l = height[left]\n",
    "    r = height[right]\n",
    "    if l < r:\n",
    "      area = l * (right - left)\n",
    "      max_area = max(max_area, area)\n",
    "      left += 1\n",
    "    else:\n",
    "      area = r * (right - left)\n",
    "      max_area = max(max_area, area)\n",
    "      right -= 1\n",
    "\n",
    "  return max_area"
   ]
  },
  {
   "cell_type": "code",
   "execution_count": null,
   "metadata": {},
   "outputs": [],
   "source": [
    "print(maxArea([1,8,6,2,5,4,8,3,7])) # Should be 49\n",
    "print(maxArea([1,1])) # Should be 1"
   ]
  },
  {
   "cell_type": "markdown",
   "metadata": {},
   "source": [
    "### 3sum\n",
    "https://leetcode.com/problems/3sum/"
   ]
  },
  {
   "cell_type": "code",
   "execution_count": 32,
   "metadata": {},
   "outputs": [],
   "source": [
    "def threeSum(nums):\n",
    "  if len([n for n in nums if n == 0]) == len(nums): return [[0, 0, 0]] # Handle special case where all elems are 0\n",
    "\n",
    "  n = len(nums)\n",
    "  nums.sort()\n",
    "  triplets = set()\n",
    "\n",
    "  for i in range(n // 2):\n",
    "    j = i + 1 # Next elem\n",
    "    k = n - 1 # Last elem\n",
    "    while j < k:  # Basically j will move to right (increasing) and k will move left (decreasing)\n",
    "      s = nums[i] + nums[j] + nums[k]\n",
    "      if s == 0:\n",
    "        triplets.add((nums[i], nums[j], nums[k]))\n",
    "        j += 1\n",
    "        k -= 1\n",
    "      elif s < 0: j += 1\n",
    "      else: k -= 1\n",
    "    \n",
    "  return list(triplets)\n"
   ]
  },
  {
   "cell_type": "code",
   "execution_count": null,
   "metadata": {},
   "outputs": [],
   "source": [
    "print(threeSum([-1,0,1,2,-1,-4])) # Should be [[-1,-1,2],[-1,0,1]]\n",
    "print(threeSum([0,1,1])) # Should be []\n",
    "print(threeSum([0,0,0])) # Should be [[0,0,0]]"
   ]
  },
  {
   "cell_type": "markdown",
   "metadata": {},
   "source": [
    "### Longest Palindromic Substring\n",
    "https://leetcode.com/problems/longest-palindromic-substring"
   ]
  },
  {
   "cell_type": "code",
   "execution_count": 40,
   "metadata": {},
   "outputs": [],
   "source": [
    "def longestPalindrome(s: str) -> str:\n",
    "  # Intuition: Similar to 3sum, you have a middle pointer, and you move left and right pointer.\n",
    "  # The key is join each char with # so that you handle s with even and odd chars the same way.\n",
    "  s = \"#\".join(s)\n",
    "  n = len(s)\n",
    "  max_str = \"\"\n",
    "  for mid in range(n):\n",
    "    length = 0\n",
    "    while mid - length >= 0 and mid + length < n and s[mid - length] == s[mid + length]: length += 1\n",
    "    txt = s[mid-length+1:mid+length].replace(\"#\", \"\")\n",
    "    if len(txt) > len(max_str): max_str = txt\n",
    "\n",
    "  return max_str"
   ]
  },
  {
   "cell_type": "code",
   "execution_count": null,
   "metadata": {},
   "outputs": [],
   "source": [
    "print(longestPalindrome(\"babad\"))\n",
    "print(longestPalindrome(\"cbbd\"))"
   ]
  },
  {
   "cell_type": "markdown",
   "metadata": {},
   "source": [
    "### Palindromic Substrings\n",
    "https://leetcode.com/problems/palindromic-substrings"
   ]
  },
  {
   "cell_type": "code",
   "execution_count": 47,
   "metadata": {},
   "outputs": [],
   "source": [
    "def countSubstrings(s: str) -> int:\n",
    "  # Basically re-write of Longest Palindromic Substring\n",
    "  s = \"#\".join(s)\n",
    "  n = len(s)\n",
    "  count = 0\n",
    "  for mid in range(n):\n",
    "    length = 0\n",
    "    while mid - length >= 0 and mid + length < n and s[mid - length] == s[mid + length]:\n",
    "      if s[mid - length] != \"#\": count += 1\n",
    "      length += 1\n",
    "\n",
    "  return count"
   ]
  },
  {
   "cell_type": "code",
   "execution_count": null,
   "metadata": {},
   "outputs": [],
   "source": [
    "print(countSubstrings(\"abc\")) # 3 because \"a\", \"b\", \"c\"\n",
    "print(countSubstrings(\"aaa\")) # 6 because \"a\", \"a\", \"a\", \"aa\", \"aa\", \"aaa\".\n",
    "print(countSubstrings(\"babad\")) # 7 because \"a\" * 2, \"b\" * 2, \"d\" \"bab\", \"aba\""
   ]
  },
  {
   "cell_type": "code",
   "execution_count": null,
   "metadata": {},
   "outputs": [],
   "source": []
  }
 ],
 "metadata": {
  "kernelspec": {
   "display_name": ".venv",
   "language": "python",
   "name": "python3"
  },
  "language_info": {
   "codemirror_mode": {
    "name": "ipython",
    "version": 3
   },
   "file_extension": ".py",
   "mimetype": "text/x-python",
   "name": "python",
   "nbconvert_exporter": "python",
   "pygments_lexer": "ipython3",
   "version": "3.11.4"
  }
 },
 "nbformat": 4,
 "nbformat_minor": 2
}
