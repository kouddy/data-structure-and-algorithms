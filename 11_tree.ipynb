{
 "cells": [
  {
   "cell_type": "code",
   "execution_count": 7,
   "metadata": {},
   "outputs": [],
   "source": [
    "class TreeNode:\n",
    "    def __init__(self, x):\n",
    "        self.val = x\n",
    "        self.left = None\n",
    "        self.right = None\n",
    "\n",
    "class Tree:\n",
    "  def __init__(self, data: str):\n",
    "    \"\"\"Decodes your encoded data to tree.\n",
    "    \"\"\"\n",
    "    if not data: return None\n",
    "    vals = data.split(\",\")\n",
    "    root = TreeNode(vals.pop(0))\n",
    "    # Intuition: When deserializing, we need a queue to keep track of parent node.\n",
    "    q = [root]\n",
    "    while q and vals:\n",
    "      parent = q.pop(0)\n",
    "\n",
    "      left = vals.pop(0)\n",
    "      if left != \"null\": \n",
    "        parent.left = TreeNode(left)\n",
    "        q.append(parent.left)\n",
    "\n",
    "      right = vals.pop(0)\n",
    "      if right != \"null\": \n",
    "        parent.right = TreeNode(right)\n",
    "        q.append(parent.right)\n",
    "    \n",
    "    self.root = root\n",
    "\n",
    "  def __str__(self) -> str:\n",
    "    \"\"\"Encodes a tree to a single string.\n",
    "    \"\"\"\n",
    "    root = self.root\n",
    "    if not root: return \"\"\n",
    "    q = [root]\n",
    "    output = []\n",
    "    while q:\n",
    "      for i in range(len(q)):\n",
    "        e = q.pop(0)\n",
    "        if e:\n",
    "          output.append(str(e.val))\n",
    "          q.append(e.left)\n",
    "          q.append(e.right)\n",
    "        else:\n",
    "          output.append(\"null\")\n",
    "\n",
    "    while output and output[-1] == \"null\": output.pop()\n",
    "\n",
    "    return \",\".join(output)"
   ]
  },
  {
   "cell_type": "code",
   "execution_count": null,
   "metadata": {},
   "outputs": [],
   "source": [
    "print(Tree(\"2,1,3\"))\n",
    "print(Tree(\"10,5,-3,3,2,null,11,3,-2,null,1\"))"
   ]
  },
  {
   "cell_type": "markdown",
   "metadata": {},
   "source": [
    "# Commonly used traversal patterns"
   ]
  },
  {
   "cell_type": "markdown",
   "metadata": {},
   "source": [
    "* Doing in-order on binary search tree will give you items in ascending order.\n",
    "* Level-order traversal must be done using BFS\n",
    "* For DFS, make sure to handle case where root is null."
   ]
  },
  {
   "cell_type": "code",
   "execution_count": 18,
   "metadata": {},
   "outputs": [],
   "source": [
    "def preorder(tree: Tree):\n",
    "  def visit(root: TreeNode, output: list[int]):\n",
    "    if root:\n",
    "      output.append(root.val)\n",
    "      visit(root.left, output)\n",
    "      visit(root.right, output)\n",
    "  \n",
    "  output = []\n",
    "  visit(tree.root, output)\n",
    "  return output"
   ]
  },
  {
   "cell_type": "code",
   "execution_count": null,
   "metadata": {},
   "outputs": [],
   "source": [
    "preorder(Tree(\"10,5,-3,3,2,null,11,3,-2,null,1\")) # Result: ['10', '5', '3', '3', '-2', '2', '1', '-3', '11']"
   ]
  },
  {
   "cell_type": "code",
   "execution_count": 37,
   "metadata": {},
   "outputs": [],
   "source": [
    "def preorder_alt(tree: Tree):\n",
    "  def visit(root: TreeNode):\n",
    "    if root:\n",
    "      result = []\n",
    "      result.append(root.val)\n",
    "      result.extend(visit(root.left))\n",
    "      result.extend(visit(root.right))\n",
    "      return result\n",
    "    else: return []\n",
    "      \n",
    "\n",
    "  output = visit(tree.root)\n",
    "  return output"
   ]
  },
  {
   "cell_type": "code",
   "execution_count": null,
   "metadata": {},
   "outputs": [],
   "source": [
    "preorder_alt(Tree(\"10,5,-3,3,2,null,11,3,-2,null,1\")) # Result: ['10', '5', '3', '3', '-2', '2', '1', '-3', '11']"
   ]
  },
  {
   "cell_type": "code",
   "execution_count": 16,
   "metadata": {},
   "outputs": [],
   "source": [
    "def inorder(tree: Tree):\n",
    "  def visit(root: TreeNode, output: list[int]):\n",
    "    if root:\n",
    "      visit(root.left, output)\n",
    "      output.append(root.val)\n",
    "      visit(root.right, output)\n",
    "  \n",
    "  output = []\n",
    "  visit(tree.root, output)\n",
    "  return output"
   ]
  },
  {
   "cell_type": "code",
   "execution_count": null,
   "metadata": {},
   "outputs": [],
   "source": [
    "inorder(Tree(\"10,5,-3,3,2,null,11,3,-2,null,1\")) # Result: ['3', '3', '-2', '5', '2', '1', '10', '-3', '11']"
   ]
  },
  {
   "cell_type": "code",
   "execution_count": 20,
   "metadata": {},
   "outputs": [],
   "source": [
    "def postorder(tree: Tree):\n",
    "  def visit(root: TreeNode, output: list[int]):\n",
    "    if root:\n",
    "      visit(root.left, output)\n",
    "      visit(root.right, output)\n",
    "      output.append(root.val)\n",
    "  \n",
    "  output = []\n",
    "  visit(tree.root, output)\n",
    "  return output"
   ]
  },
  {
   "cell_type": "code",
   "execution_count": null,
   "metadata": {},
   "outputs": [],
   "source": [
    "postorder(Tree(\"10,5,-3,3,2,null,11,3,-2,null,1\")) # Result: ['3', '-2', '3', '1', '2', '5', '11', '-3', '10']"
   ]
  },
  {
   "cell_type": "code",
   "execution_count": 26,
   "metadata": {},
   "outputs": [],
   "source": [
    "def levelorder(tree: Tree) -> str:\n",
    "  q = [tree.root]\n",
    "  output = []\n",
    "  while q:\n",
    "    for _ in range(len(q)):\n",
    "      e = q.pop(0)\n",
    "      output.append(e.val)\n",
    "      if e.left: q.append(e.left)\n",
    "      if e.right: q.append(e.right)\n",
    "  return output"
   ]
  },
  {
   "cell_type": "code",
   "execution_count": null,
   "metadata": {},
   "outputs": [],
   "source": [
    "levelorder(Tree(\"10,5,-3,3,2,null,11,3,-2,null,1\")) # Result: ['10', '5', '-3', '3', '2', '11', '3', '-2', '1']"
   ]
  },
  {
   "cell_type": "markdown",
   "metadata": {},
   "source": [
    "When doing traversal, you can pass in state and use state to do some sort of compute.\n",
    "\n",
    "Example below shows passing state to keep track of the path when searching for an element."
   ]
  },
  {
   "cell_type": "code",
   "execution_count": 77,
   "metadata": {},
   "outputs": [],
   "source": [
    "def search(tree: Tree, target: str):\n",
    "  def visit(root: TreeNode, target: str, path: list[int]):\n",
    "    if not root: return False\n",
    "\n",
    "    path.append(root.val) # Append node to path (the state)\n",
    "\n",
    "    if root.val == target: return True\n",
    "\n",
    "    left = visit(root.left, target, path)\n",
    "    right = visit(root.right, target, path)\n",
    "\n",
    "    if left or right: return True\n",
    "    else:\n",
    "      # Result not found, so pop.\n",
    "      path.pop(-1)\n",
    "      return False\n",
    "  \n",
    "  path = []\n",
    "  visit(tree.root, target, path)\n",
    "  return path"
   ]
  },
  {
   "cell_type": "code",
   "execution_count": null,
   "metadata": {},
   "outputs": [],
   "source": [
    "search(Tree(\"10,5,-3,3,2,null,11,3,-2,null,1\"), \"1\")"
   ]
  },
  {
   "cell_type": "markdown",
   "metadata": {},
   "source": [
    "* Often times we need to calculate something not from root, but from one of the nodes in subtree, we can use \"start\" flag here."
   ]
  },
  {
   "cell_type": "code",
   "execution_count": null,
   "metadata": {},
   "outputs": [],
   "source": [
    "def pathSum(root: TreeNode, targetSum: int) -> int:\n",
    "  def traverse(root, targetSum, start):\n",
    "    if not root: return 0\n",
    "\n",
    "    c = 0\n",
    "    s = targetSum - root.val\n",
    "    if s == 0: c += 1\n",
    "\n",
    "    # Compute left with node accounted\n",
    "    c += traverse(root.left, s, False)\n",
    "    c += traverse(root.right, s, False)\n",
    "\n",
    "    if start:\n",
    "        # Compute left without node accounted\n",
    "        c += traverse(root.left, targetSum, True)\n",
    "        c += traverse(root.right, targetSum, True)\n",
    "    return c\n",
    "\n",
    "  return traverse(root, targetSum, True)"
   ]
  },
  {
   "cell_type": "markdown",
   "metadata": {},
   "source": [
    "# Easy"
   ]
  },
  {
   "cell_type": "markdown",
   "metadata": {},
   "source": [
    "###  Balanced Binary Tree\n",
    "https://leetcode.com/problems/balanced-binary-tree"
   ]
  },
  {
   "cell_type": "markdown",
   "metadata": {},
   "source": [
    "### Diameter of Binary Tree\n",
    "https://leetcode.com/problems/diameter-of-binary-tree"
   ]
  },
  {
   "cell_type": "markdown",
   "metadata": {},
   "source": [
    "# Medium"
   ]
  },
  {
   "cell_type": "markdown",
   "metadata": {},
   "source": [
    "### Lowest Common Ancestor of a Binary Tree\n",
    "https://leetcode.com/problems/lowest-common-ancestor-of-a-binary-tree\n",
    "\n",
    "--> Append value when traversing"
   ]
  },
  {
   "cell_type": "markdown",
   "metadata": {},
   "source": [
    "### Path Sum III\n",
    "https://leetcode.com/problems/path-sum-iii\n",
    "\n",
    "--> Use of \"start\" flag"
   ]
  },
  {
   "cell_type": "markdown",
   "metadata": {},
   "source": [
    "### Validate Binary Search Tree\n",
    "https://leetcode.com/problems/validate-binary-search-tree\n",
    "\n",
    "--> In-order traversal"
   ]
  },
  {
   "cell_type": "markdown",
   "metadata": {},
   "source": [
    "### Minimum Height Trees\n",
    "https://leetcode.com/problems/minimum-height-trees/\n",
    "\n",
    "--> Advanced BFS"
   ]
  },
  {
   "cell_type": "code",
   "execution_count": null,
   "metadata": {},
   "outputs": [],
   "source": []
  },
  {
   "cell_type": "markdown",
   "metadata": {},
   "source": [
    "# Hard"
   ]
  },
  {
   "cell_type": "code",
   "execution_count": null,
   "metadata": {},
   "outputs": [],
   "source": []
  }
 ],
 "metadata": {
  "kernelspec": {
   "display_name": ".venv",
   "language": "python",
   "name": "python3"
  },
  "language_info": {
   "codemirror_mode": {
    "name": "ipython",
    "version": 3
   },
   "file_extension": ".py",
   "mimetype": "text/x-python",
   "name": "python",
   "nbconvert_exporter": "python",
   "pygments_lexer": "ipython3",
   "version": "3.11.4"
  }
 },
 "nbformat": 4,
 "nbformat_minor": 2
}
