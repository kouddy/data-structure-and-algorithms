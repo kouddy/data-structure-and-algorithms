{
 "cells": [
  {
   "cell_type": "markdown",
   "metadata": {},
   "source": [
    "# Medium"
   ]
  },
  {
   "cell_type": "markdown",
   "metadata": {},
   "source": [
    "### Maximum Number of Vowels in a Substring of Given Length\n",
    "https://leetcode.com/problems/maximum-number-of-vowels-in-a-substring-of-given-length"
   ]
  },
  {
   "cell_type": "code",
   "execution_count": 20,
   "metadata": {},
   "outputs": [],
   "source": [
    "def maxVowels(s: str, k: int) -> int:\n",
    "  vowels = \"aeiou\"\n",
    "  n = len(s)\n",
    "  max_count = 0\n",
    "  count = 0\n",
    "  left = 0\n",
    "  for right in range(n):\n",
    "    # Extend right. Let's say k = 3, on after first 3 iterations, k will become 0. On 4th iteration, k will become -1, and shrink left will happen.\n",
    "    k -= 1\n",
    "    if s[right] in vowels: count += 1\n",
    "\n",
    "    # Shrink left\n",
    "    if k < 0:\n",
    "      if s[left] in vowels: count -= 1\n",
    "      k += 1\n",
    "      left += 1\n",
    "\n",
    "    max_count = max(max_count, count)\n",
    "\n",
    "  return max_count\n",
    "    "
   ]
  },
  {
   "cell_type": "code",
   "execution_count": 21,
   "metadata": {},
   "outputs": [
    {
     "name": "stdout",
     "output_type": "stream",
     "text": [
      "3\n",
      "1\n"
     ]
    }
   ],
   "source": [
    "print(maxVowels(\"abciiidef\", 3)) # Should be 3\n",
    "print(maxVowels(\"a\", 1)) # Should be 1"
   ]
  },
  {
   "cell_type": "code",
   "execution_count": 22,
   "metadata": {},
   "outputs": [],
   "source": [
    "def maxVowels_alt(s: str, k: int) -> int:\n",
    "  # Alternative approach using queue.\n",
    "  vowels = \"aeiou\"\n",
    "  max_count = count = 0\n",
    "  q = []\n",
    "  for e in s:\n",
    "    k -= 1\n",
    "    q.append(e)\n",
    "    if e in vowels: count += 1\n",
    "\n",
    "    # Shrink left\n",
    "    if k < 0:\n",
    "      if q.pop(0) in vowels: count -= 1\n",
    "      k += 1\n",
    "\n",
    "    max_count = max(max_count, count)\n",
    "\n",
    "  return max_count\n",
    "    "
   ]
  },
  {
   "cell_type": "code",
   "execution_count": 23,
   "metadata": {},
   "outputs": [
    {
     "name": "stdout",
     "output_type": "stream",
     "text": [
      "3\n",
      "1\n"
     ]
    }
   ],
   "source": [
    "print(maxVowels_alt(\"abciiidef\", 3)) # Should be 3\n",
    "print(maxVowels_alt(\"a\", 1)) # Should be 1"
   ]
  },
  {
   "cell_type": "markdown",
   "metadata": {},
   "source": [
    "###  Max Consecutive Ones III\n",
    "https://leetcode.com/problems/max-consecutive-ones-iii"
   ]
  },
  {
   "cell_type": "code",
   "execution_count": 24,
   "metadata": {},
   "outputs": [],
   "source": [
    "def longestOnes(nums, k: int) -> int:\n",
    "  # Intuition: Use queue as delayed pop.\n",
    "  max_count = 0\n",
    "  q = []\n",
    "  for e in nums:\n",
    "    # Extend right\n",
    "    if e == 0: k -= 1\n",
    "    q.append(e)\n",
    "\n",
    "    # Shrink left\n",
    "    if k < 0: \n",
    "      while q and q[0] == 1: q.pop(0)\n",
    "      q.pop(0)\n",
    "      k += 1\n",
    "    \n",
    "    max_count = max(max_count, len(q))\n",
    "\n",
    "  return max_count\n",
    "    "
   ]
  },
  {
   "cell_type": "code",
   "execution_count": 27,
   "metadata": {},
   "outputs": [
    {
     "name": "stdout",
     "output_type": "stream",
     "text": [
      "6\n",
      "10\n"
     ]
    }
   ],
   "source": [
    "print(longestOnes([1,1,1,0,0,0,1,1,1,1,0], 2)) # Should be 6\n",
    "print(longestOnes([0,0,1,1,0,0,1,1,1,0,1,1,0,0,0,1,1,1,1], 3)) # Should be 10"
   ]
  },
  {
   "cell_type": "code",
   "execution_count": 28,
   "metadata": {},
   "outputs": [],
   "source": [
    "def longestOnes_alt(nums, k: int) -> int:\n",
    "  n = len(nums)\n",
    "  max_count = 0\n",
    "  left = 0\n",
    "  for right in range(n):\n",
    "    # Extend right\n",
    "    if nums[right] == 0: k -= 1\n",
    "\n",
    "    # Shrink left\n",
    "    if k < 0: \n",
    "      while nums[left] == 1: left += 1\n",
    "      left += 1\n",
    "      k += 1\n",
    "    \n",
    "    max_count = max(max_count, right - left + 1)\n",
    "\n",
    "  return max_count\n",
    "    "
   ]
  },
  {
   "cell_type": "code",
   "execution_count": 29,
   "metadata": {},
   "outputs": [
    {
     "name": "stdout",
     "output_type": "stream",
     "text": [
      "6\n",
      "10\n"
     ]
    }
   ],
   "source": [
    "print(longestOnes_alt([1,1,1,0,0,0,1,1,1,1,0], 2)) # Should be 6\n",
    "print(longestOnes_alt([0,0,1,1,0,0,1,1,1,0,1,1,0,0,0,1,1,1,1], 3)) # Should be 10"
   ]
  },
  {
   "cell_type": "markdown",
   "metadata": {},
   "source": [
    "### Longest Repeating Character Replacement\n",
    "https://leetcode.com/problems/longest-repeating-character-replacement"
   ]
  },
  {
   "cell_type": "code",
   "execution_count": 37,
   "metadata": {},
   "outputs": [],
   "source": [
    "def characterReplacement(s: str, k: int) -> int:\n",
    "  # Intuition: Basically computer longest consequtive ones for each char. If char matches, then it's 1, else it's 0\n",
    "  max_count = 0\n",
    "  n = len(s)\n",
    "  for c in set(s):\n",
    "    kk = k\n",
    "    left = 0\n",
    "    for right in range(n):\n",
    "      if s[right] != c: kk -= 1\n",
    "      if kk < 0:\n",
    "        while s[left] == c: left += 1\n",
    "        left += 1\n",
    "        kk += 1\n",
    "      max_count = max(max_count, right - left + 1)\n",
    "  return max_count\n"
   ]
  },
  {
   "cell_type": "code",
   "execution_count": 38,
   "metadata": {},
   "outputs": [
    {
     "name": "stdout",
     "output_type": "stream",
     "text": [
      "4\n",
      "4\n",
      "4\n"
     ]
    }
   ],
   "source": [
    "print(characterReplacement(\"ABAB\", 2)) # Should be 4\n",
    "print(characterReplacement(\"AABABBA\", 1)) # Should be 4\n",
    "print(characterReplacement(\"AAAA\", 2)) # Should be 4"
   ]
  },
  {
   "cell_type": "markdown",
   "metadata": {},
   "source": [
    "### Find All Anagrams in a String\n",
    "https://leetcode.com/problems/find-all-anagrams-in-a-string"
   ]
  },
  {
   "cell_type": "code",
   "execution_count": 40,
   "metadata": {},
   "outputs": [],
   "source": [
    "def findAnagrams(s: str, p: str) -> list[int]:\n",
    "  # Intuition: sliding window + hash table. Runtime is O(n * len(p)) which is better than O(n * plog(p))\n",
    "  h = {}\n",
    "  for c in p: h[c] = h[c] + 1 if c in h else 1\n",
    "  i = 0\n",
    "  result = []\n",
    "  for j in range(len(s)):\n",
    "    # Extend right\n",
    "    if s[j] in h:  h[s[j]] -= 1\n",
    "    # Shrink right\n",
    "    if j - i + 1 > len(p):\n",
    "      if s[i] in h: h[s[i]] += 1\n",
    "      i += 1\n",
    "\n",
    "    if len([v for v in h.values() if v != 0]) == 0: result.append(i)\n",
    "\n",
    "  return result"
   ]
  },
  {
   "cell_type": "code",
   "execution_count": 42,
   "metadata": {},
   "outputs": [
    {
     "name": "stdout",
     "output_type": "stream",
     "text": [
      "[0, 6]\n",
      "[0, 1, 2]\n"
     ]
    }
   ],
   "source": [
    "print(findAnagrams(\"cbaebabacd\", \"abc\")) # Should be [0, 6]\n",
    "print(findAnagrams(\"abab\", \"ab\")) # Should be [0,1,2]"
   ]
  },
  {
   "cell_type": "markdown",
   "metadata": {},
   "source": [
    "# HARD"
   ]
  },
  {
   "cell_type": "markdown",
   "metadata": {},
   "source": [
    "### Minimum Window Substring\n",
    "https://leetcode.com/problems/minimum-window-substring"
   ]
  },
  {
   "cell_type": "markdown",
   "metadata": {},
   "source": []
  }
 ],
 "metadata": {
  "kernelspec": {
   "display_name": ".venv",
   "language": "python",
   "name": "python3"
  },
  "language_info": {
   "codemirror_mode": {
    "name": "ipython",
    "version": 3
   },
   "file_extension": ".py",
   "mimetype": "text/x-python",
   "name": "python",
   "nbconvert_exporter": "python",
   "pygments_lexer": "ipython3",
   "version": "3.11.4"
  }
 },
 "nbformat": 4,
 "nbformat_minor": 2
}
