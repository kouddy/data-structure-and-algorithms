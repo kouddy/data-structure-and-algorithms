{
 "cells": [
  {
   "cell_type": "markdown",
   "metadata": {},
   "source": [
    "* topological sort\n",
    "    * Is basically BFS but you visit based on if there is only one edge left or not.\n",
    "* adjacent list\n",
    "* node\n",
    "* array"
   ]
  },
  {
   "cell_type": "markdown",
   "metadata": {},
   "source": [
    "### BFS\n",
    "\n",
    "* With BFS, you can have multiple starting point at once.\n",
    "* Make sure to add \"visited\"!"
   ]
  },
  {
   "cell_type": "code",
   "execution_count": 14,
   "metadata": {},
   "outputs": [],
   "source": [
    "def bfs_array(starts: list[tuple[int]], grid: list[list[int]]) -> list[int]:\n",
    "    m = len(grid)\n",
    "    n = len(grid[0])\n",
    "    visited = set()\n",
    "    q = starts\n",
    "    visited = set(starts)\n",
    "    directions = [[1,0],[-1,0],[0,1],[0,-1]]\n",
    "    output = []\n",
    "    time = 0\n",
    "    while q:\n",
    "        time += 1\n",
    "        for _ in range(len(q)):\n",
    "            r, c = q.pop(0)\n",
    "            output.append([(r, c), time])\n",
    "            for d in directions:\n",
    "                new_r, new_c = neighbor = (r + d[0], c + d[1])\n",
    "                if new_r >= 0 and new_r < m and new_c >= 0 and new_c < n and neighbor not in visited:\n",
    "                    q.append(neighbor)\n",
    "                    visited.add(neighbor)\n",
    "    return output\n"
   ]
  },
  {
   "cell_type": "code",
   "execution_count": null,
   "metadata": {},
   "outputs": [],
   "source": [
    "bfs_array([(0,0), (2,2)], [[1,1,1],[1,0,0],[0,1,1]])"
   ]
  },
  {
   "cell_type": "markdown",
   "metadata": {},
   "source": [
    "### DFS\n",
    "\n",
    "* With DFS, you can't really have multiple starting point at once.\n",
    "* With DFS, you can have backtracking\n",
    "* Make sure to add \"visited\"!"
   ]
  },
  {
   "cell_type": "code",
   "execution_count": 23,
   "metadata": {},
   "outputs": [],
   "source": [
    "def dfs_array(start: tuple[int], grid: list[list[int]]) -> list[int]:\n",
    "    def visit(start, grid, visited, output):\n",
    "        m = len(grid)\n",
    "        n = len(grid[0])\n",
    "        r, c = start\n",
    "\n",
    "        directions = [[1,0],[-1,0],[0,1],[0,-1]]\n",
    "        visited.add(start)\n",
    "        output.append(start)\n",
    "        for d in directions:\n",
    "            new_r, new_c = neighbor = (r + d[0], c + d[1])\n",
    "            if new_r >= 0 and new_r < m and new_c >= 0 and new_c < n and neighbor not in visited:\n",
    "                visit(neighbor, grid, visited, output)\n",
    "    \n",
    "    output = []\n",
    "    visited = set()\n",
    "    visit(start, grid, visited, output)\n",
    "    return output"
   ]
  },
  {
   "cell_type": "code",
   "execution_count": null,
   "metadata": {},
   "outputs": [],
   "source": [
    "dfs_array((0,0), [[1,1,1],[1,0,0],[0,1,1]])"
   ]
  },
  {
   "cell_type": "markdown",
   "metadata": {},
   "source": [
    "### DFS with backtracking\n",
    "\n",
    "* Sometimes we need to visit a node from one path, and visit the node again from another path. We can enable multiple visits by removing the node from visited at the end of the visit function."
   ]
  },
  {
   "cell_type": "code",
   "execution_count": null,
   "metadata": {},
   "outputs": [],
   "source": [
    "def dfs_array_with_backtracking(start: tuple[int], grid: list[list[int]]) -> list[int]:\n",
    "    def visit(start, grid, visited, output):\n",
    "        m = len(grid)\n",
    "        n = len(grid[0])\n",
    "        r, c = start\n",
    "\n",
    "        directions = [[1,0],[-1,0],[0,1],[0,-1]]\n",
    "        output.append(start)\n",
    "        for d in directions:\n",
    "            new_r, new_c = neighbor = (r + d[0], c + d[1])\n",
    "            if new_r >= 0 and new_r < m and new_c >= 0 and new_c < n and neighbor not in visited:\n",
    "                visited.add(start) # We will append to visited\n",
    "                visit(neighbor, grid, visited, output)\n",
    "                visited.remove(start) # When we finish visiting, we remove the node from visited so that another path can visit again.\n",
    "    \n",
    "    output = []\n",
    "    visited = set()\n",
    "    visit(start, grid, visited, output)\n",
    "    return output"
   ]
  },
  {
   "cell_type": "markdown",
   "metadata": {},
   "source": [
    "# Medium"
   ]
  },
  {
   "cell_type": "markdown",
   "metadata": {},
   "source": [
    "### Clone Graph\n",
    "\n",
    "https://leetcode.com/problems/clone-graph\n",
    "\n",
    "-> Simple BFS"
   ]
  },
  {
   "cell_type": "markdown",
   "metadata": {},
   "source": [
    "### Number of Provinces\n",
    "\n",
    "https://leetcode.com/problems/number-of-provinces\n",
    "\n",
    "-> Simple BFS"
   ]
  },
  {
   "cell_type": "markdown",
   "metadata": {},
   "source": [
    "### Flood Fill\n",
    "\n",
    "https://leetcode.com/problems/flood-fill/\n",
    "\n",
    "-> Simple BFS"
   ]
  },
  {
   "cell_type": "markdown",
   "metadata": {},
   "source": [
    "### Rotting Oranges\n",
    "\n",
    "https://leetcode.com/problems/rotting-oranges\n",
    "\n",
    "-> Use BFS with multiple starting points"
   ]
  },
  {
   "cell_type": "markdown",
   "metadata": {},
   "source": [
    "### 01 Matrix\n",
    "\n",
    "https://leetcode.com/problems/01-matrix/\n",
    "\n",
    "-> Variation of Rotting Oranges. Think 0 as starting point and when cell with 1 will get rotten"
   ]
  },
  {
   "cell_type": "markdown",
   "metadata": {},
   "source": [
    "### Nearest Exit from Entrance in Maze\n",
    "\n",
    "https://leetcode.com/problems/nearest-exit-from-entrance-in-maze\n",
    "\n",
    "-> BFS"
   ]
  },
  {
   "cell_type": "markdown",
   "metadata": {},
   "source": [
    "### Word Search\n",
    "\n",
    "https://leetcode.com/problems/word-search\n",
    "\n",
    "-> DFS with backtracking"
   ]
  },
  {
   "cell_type": "markdown",
   "metadata": {},
   "source": [
    "### Course Schedule\n",
    "\n",
    "https://leetcode.com/problems/course-schedule\n",
    "\n",
    "-> Topological sort"
   ]
  },
  {
   "cell_type": "markdown",
   "metadata": {},
   "source": [
    "### Minimum Height Trees\n",
    "\n",
    "https://leetcode.com/problems/minimum-height-trees\n",
    "\n",
    "-> Topological sort"
   ]
  },
  {
   "cell_type": "markdown",
   "metadata": {},
   "source": []
  }
 ],
 "metadata": {
  "kernelspec": {
   "display_name": ".venv",
   "language": "python",
   "name": "python3"
  },
  "language_info": {
   "codemirror_mode": {
    "name": "ipython",
    "version": 3
   },
   "file_extension": ".py",
   "mimetype": "text/x-python",
   "name": "python",
   "nbconvert_exporter": "python",
   "pygments_lexer": "ipython3",
   "version": "3.11.4"
  }
 },
 "nbformat": 4,
 "nbformat_minor": 2
}
