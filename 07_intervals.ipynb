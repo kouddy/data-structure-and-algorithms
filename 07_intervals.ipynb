{
 "cells": [
  {
   "cell_type": "markdown",
   "metadata": {},
   "source": [
    "# Medium"
   ]
  },
  {
   "cell_type": "markdown",
   "metadata": {},
   "source": [
    "### Merge Intervals\n",
    "https://leetcode.com/problems/merge-intervals/"
   ]
  },
  {
   "cell_type": "code",
   "execution_count": 23,
   "metadata": {},
   "outputs": [],
   "source": [
    "import math\n",
    "def merge(intervals: list[list[int]]) -> list[list[int]]:\n",
    "  # We don't need to use monotonic stack because intervals are sorted already, intervals with lower start will come first anyways.\n",
    "  stack = [[-math.inf, -math.inf]]\n",
    "  intervals.sort()\n",
    "  for e in intervals:\n",
    "    prev = stack[-1]\n",
    "    if not e[0] > prev[1]: # here we are defining non-overlapping as prev's end strictly larger than next's beginning.\n",
    "      stack[-1][0] = min(e[0], prev[0])\n",
    "      stack[-1][1] = max(e[1], prev[1])\n",
    "    else: stack.append(e) # non-overlapping, so just append\n",
    "  return stack[1:]"
   ]
  },
  {
   "cell_type": "code",
   "execution_count": null,
   "metadata": {},
   "outputs": [],
   "source": [
    "print(merge([[1,3],[2,6],[8,10],[15,18]])) # Should be [[1,6],[8,10],[15,18]]\n",
    "print(merge([[1,4],[4,5]])) # should be [[1,5]]\n",
    "\n",
    "[[1,3],[6,9]]"
   ]
  },
  {
   "cell_type": "markdown",
   "metadata": {},
   "source": [
    "### Minimum Number of Arrows to Burst Balloons\n",
    "https://leetcode.com/problems/minimum-number-of-arrows-to-burst-balloons"
   ]
  },
  {
   "cell_type": "code",
   "execution_count": 25,
   "metadata": {},
   "outputs": [],
   "source": [
    "def findMinArrowShots(points: list[list[int]]) -> int:\n",
    "  # The solution is exactly like merging intervals, except we shrink merged intervals except expanding merged intervals\n",
    "  stack = [[-math.inf, -math.inf]]\n",
    "  points.sort()\n",
    "  for e in points:\n",
    "    prev = stack[-1]\n",
    "    if not e[0] > prev[1]: # If overlapping\n",
    "      stack[-1][0] = max(e[0], prev[0]) # Here we are taking shrank interval by taking max\n",
    "      stack[-1][1] = min(e[1], prev[1]) # Takin min to shrink interval\n",
    "    else: stack.append(e) # non-overlapping, so just append\n",
    "  return len(stack[1:])"
   ]
  },
  {
   "cell_type": "code",
   "execution_count": null,
   "metadata": {},
   "outputs": [],
   "source": [
    "print(findMinArrowShots([[10,16],[2,8],[1,6],[7,12]])) # Should be 2\n",
    "print(findMinArrowShots([[1,2],[3,4],[5,6],[7,8]])) # Should be 4\n",
    "print(findMinArrowShots([[1,2],[2,3],[3,4],[4,5]])) # Should be 2\n"
   ]
  },
  {
   "cell_type": "markdown",
   "metadata": {},
   "source": [
    "### Non-overlapping Intervals\n",
    "https://leetcode.com/problems/non-overlapping-intervals"
   ]
  },
  {
   "cell_type": "code",
   "execution_count": 21,
   "metadata": {},
   "outputs": [],
   "source": [
    "# [1, 2] and [2, 3] are non-overlapping\n",
    "import math\n",
    "def eraseOverlapIntervals(intervals: list[list[int]]) -> int:\n",
    "  intervals.sort()\n",
    "  prev = [-math.inf, -math.inf]\n",
    "  count = 0\n",
    "  for e in intervals:\n",
    "    # not overlapping: \n",
    "    if e[0] >= prev[1]: prev = e\n",
    "    else:\n",
    "      count += 1\n",
    "      if e[1] < prev[1]: prev = e\n",
    "  return count"
   ]
  },
  {
   "cell_type": "code",
   "execution_count": null,
   "metadata": {},
   "outputs": [],
   "source": [
    "print(eraseOverlapIntervals([[1,2],[2,3],[3,4],[1,3]])) # Should be 1. [1,3] can be erased.\n",
    "print(eraseOverlapIntervals([[1,2],[1,2],[1,2]])) # Should be 2.\n",
    "print(eraseOverlapIntervals([[1,2],[2,3]])) # Should be 0."
   ]
  },
  {
   "cell_type": "code",
   "execution_count": null,
   "metadata": {},
   "outputs": [],
   "source": []
  }
 ],
 "metadata": {
  "kernelspec": {
   "display_name": ".venv",
   "language": "python",
   "name": "python3"
  },
  "language_info": {
   "codemirror_mode": {
    "name": "ipython",
    "version": 3
   },
   "file_extension": ".py",
   "mimetype": "text/x-python",
   "name": "python",
   "nbconvert_exporter": "python",
   "pygments_lexer": "ipython3",
   "version": "3.11.4"
  }
 },
 "nbformat": 4,
 "nbformat_minor": 2
}
