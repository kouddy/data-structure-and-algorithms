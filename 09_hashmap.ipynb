{
 "cells": [
  {
   "cell_type": "markdown",
   "metadata": {},
   "source": [
    "# Easy"
   ]
  },
  {
   "cell_type": "markdown",
   "metadata": {},
   "source": [
    "### Ransom Note\n",
    "https://leetcode.com/problems/ransom-note"
   ]
  },
  {
   "cell_type": "code",
   "execution_count": 1,
   "metadata": {},
   "outputs": [],
   "source": [
    "def canConstruct(ransomNote: str, magazine: str) -> bool:\n",
    "  h1 = {}\n",
    "  h2 = {}\n",
    "  for c in ransomNote: h1[c] = h1[c] + 1 if c in h1 else 1\n",
    "  for c in magazine: h2[c] = h2[c] + 1 if c in h2 else 1\n",
    "\n",
    "  for k, v in h1.items():\n",
    "    if not k in h2 or h2[k] < v: return False\n",
    "  return True"
   ]
  },
  {
   "cell_type": "code",
   "execution_count": null,
   "metadata": {},
   "outputs": [],
   "source": [
    "print(canConstruct(\"a\", \"b\")) # False\n",
    "print(canConstruct(\"aa\", \"ab\")) # False\n",
    "print(canConstruct(\"aa\", \"aab\")) # True"
   ]
  },
  {
   "cell_type": "markdown",
   "metadata": {},
   "source": [
    "### Longest Palindrome\n",
    "https://leetcode.com/problems/longest-palindrome"
   ]
  },
  {
   "cell_type": "code",
   "execution_count": null,
   "metadata": {},
   "outputs": [],
   "source": [
    "def longestPalindrome(s: str) -> int:\n",
    "  count = 0\n",
    "  h = {}\n",
    "  for c in s: h[c] = h[c] + 1 if c in h else 1\n",
    "  has_odd = False\n",
    "  for v in h.values():\n",
    "    if v % 2 == 0: count += v\n",
    "    else: \n",
    "      # Example: If a char has more than 3 occurence, we can use 2 of it, and set has_odd to True.\n",
    "      has_odd = True\n",
    "      count += v - 1\n",
    "  if has_odd: count += 1\n",
    "\n",
    "  return count"
   ]
  },
  {
   "cell_type": "markdown",
   "metadata": {},
   "source": [
    "# Medium"
   ]
  },
  {
   "cell_type": "markdown",
   "metadata": {},
   "source": [
    "### Group Anagrams\n",
    "https://leetcode.com/problems/group-anagrams"
   ]
  },
  {
   "cell_type": "code",
   "execution_count": 14,
   "metadata": {},
   "outputs": [],
   "source": [
    "def groupAnagrams(strs: list[str]) -> list[list[str]]:\n",
    "  h = {}\n",
    "  for s in strs:\n",
    "    sorted_s = \"\".join(sorted(s))\n",
    "    if sorted_s in h: h[sorted_s].append(s)\n",
    "    else: h[sorted_s] = [s]\n",
    "  return list(h.values())"
   ]
  },
  {
   "cell_type": "code",
   "execution_count": 17,
   "metadata": {},
   "outputs": [
    {
     "name": "stdout",
     "output_type": "stream",
     "text": [
      "[['eat', 'tea', 'ate'], ['tan', 'nat'], ['bat']]\n",
      "[['']]\n",
      "[['a']]\n"
     ]
    }
   ],
   "source": [
    "print(groupAnagrams([\"eat\",\"tea\",\"tan\",\"ate\",\"nat\",\"bat\"])) # Result: [[\"bat\"],[\"nat\",\"tan\"],[\"ate\",\"eat\",\"tea\"]]\n",
    "print(groupAnagrams([\"\"])) # Result: [[\"\"]]\n",
    "print(groupAnagrams([\"a\"])) # [['a']]"
   ]
  },
  {
   "cell_type": "markdown",
   "metadata": {},
   "source": [
    "### Longest Consecutive Sequence\n",
    "https://leetcode.com/problems/longest-consecutive-sequence"
   ]
  },
  {
   "cell_type": "code",
   "execution_count": 30,
   "metadata": {},
   "outputs": [],
   "source": [
    "# I guess this question is about set instead of hashmap. Set is implemented as hashmap anyways\n",
    "def longestConsecutive(nums: list[int]) -> int:\n",
    "  h = set(nums)\n",
    "  max_count = 0\n",
    "  for n in nums:\n",
    "    if n - 1 not in h:\n",
    "      cur_n = n\n",
    "      while cur_n in h: cur_n += 1\n",
    "      max_count = max(max_count, cur_n - n)\n",
    "  return max_count\n"
   ]
  },
  {
   "cell_type": "code",
   "execution_count": 31,
   "metadata": {},
   "outputs": [
    {
     "name": "stdout",
     "output_type": "stream",
     "text": [
      "4\n",
      "9\n"
     ]
    }
   ],
   "source": [
    "print(longestConsecutive([100,4,200,1,3,2])) # Result is 4\n",
    "print(longestConsecutive([0,3,7,2,5,8,4,6,0,1])) # Result is 9"
   ]
  },
  {
   "cell_type": "code",
   "execution_count": null,
   "metadata": {},
   "outputs": [],
   "source": []
  }
 ],
 "metadata": {
  "kernelspec": {
   "display_name": ".venv",
   "language": "python",
   "name": "python3"
  },
  "language_info": {
   "codemirror_mode": {
    "name": "ipython",
    "version": 3
   },
   "file_extension": ".py",
   "mimetype": "text/x-python",
   "name": "python",
   "nbconvert_exporter": "python",
   "pygments_lexer": "ipython3",
   "version": "3.11.4"
  }
 },
 "nbformat": 4,
 "nbformat_minor": 2
}
